{
 "cells": [
  {
   "cell_type": "markdown",
   "metadata": {},
   "source": [
    "## Work\n",
    "1. 請比較使用不同層數以及不同 Dropout rate 對訓練的效果\n",
    "2. 將 optimizer 改成使用 Adam 並加上適當的 dropout rate 檢視結果"
   ]
  },
  {
   "cell_type": "code",
   "execution_count": 1,
   "metadata": {},
   "outputs": [
    {
     "name": "stderr",
     "output_type": "stream",
     "text": [
      "Using TensorFlow backend.\n"
     ]
    }
   ],
   "source": [
    "import os\n",
    "import keras\n",
    "import itertools\n",
    "# Disable GPU\n",
    "os.environ[\"CUDA_VISIBLE_DEVICES\"] = \"\""
   ]
  },
  {
   "cell_type": "code",
   "execution_count": 2,
   "metadata": {},
   "outputs": [],
   "source": [
    "train, test = keras.datasets.cifar10.load_data()"
   ]
  },
  {
   "cell_type": "code",
   "execution_count": 3,
   "metadata": {},
   "outputs": [],
   "source": [
    "## 資料前處理\n",
    "def preproc_x(x, flatten=True):\n",
    "    x = x / 255.\n",
    "    if flatten:\n",
    "        x = x.reshape((len(x), -1))\n",
    "    return x\n",
    "\n",
    "def preproc_y(y, num_classes=10):\n",
    "    if y.shape[-1] == 1:\n",
    "        y = keras.utils.to_categorical(y, num_classes)\n",
    "    return y    "
   ]
  },
  {
   "cell_type": "code",
   "execution_count": 4,
   "metadata": {},
   "outputs": [],
   "source": [
    "x_train, y_train = train\n",
    "x_test, y_test = test\n",
    "\n",
    "# Preproc the inputs\n",
    "x_train = preproc_x(x_train)\n",
    "x_test = preproc_x(x_test)\n",
    "\n",
    "# Preprc the outputs\n",
    "y_train = preproc_y(y_train)\n",
    "y_test = preproc_y(y_test)"
   ]
  },
  {
   "cell_type": "code",
   "execution_count": 8,
   "metadata": {},
   "outputs": [],
   "source": [
    "from keras.layers import Dropout\n",
    "\n",
    "def build_mlp(input_shape, output_units=10, num_neurons=[1024, 512, 256, 128], drp_ratio=0.2):\n",
    "    input_layer = keras.layers.Input(input_shape)\n",
    "    \n",
    "    for i, n_units in enumerate(num_neurons):\n",
    "        if i == 0:\n",
    "            x = keras.layers.Dense(units=n_units, \n",
    "                                   activation=\"relu\", \n",
    "                                   name=\"hidden_layer\"+str(i+1))(input_layer)\n",
    "            x = Dropout(drp_ratio)(x)\n",
    "        else:\n",
    "            x = keras.layers.Dense(units=n_units, \n",
    "                                   activation=\"relu\", \n",
    "                                   name=\"hidden_layer\"+str(i+1))(x)\n",
    "            x = Dropout(drp_ratio)(x)\n",
    "    \n",
    "    out = keras.layers.Dense(units=output_units, activation=\"softmax\", name=\"output\")(x)\n",
    "    \n",
    "    model = keras.models.Model(inputs=[input_layer], outputs=[out])\n",
    "    return model"
   ]
  },
  {
   "cell_type": "code",
   "execution_count": 9,
   "metadata": {},
   "outputs": [],
   "source": [
    "\"\"\"Code Here\n",
    "設定超參數\n",
    "\"\"\"\n",
    "LEARNING_RATE = 1e-3\n",
    "EPOCHS = 50\n",
    "BATCH_SIZE = 256\n",
    "MOMENTUM = 0.95\n",
    "Dropout_EXP = 0.25"
   ]
  },
  {
   "cell_type": "code",
   "execution_count": 10,
   "metadata": {
    "scrolled": true
   },
   "outputs": [
    {
     "name": "stdout",
     "output_type": "stream",
     "text": [
      "Model: \"model_1\"\n",
      "_________________________________________________________________\n",
      "Layer (type)                 Output Shape              Param #   \n",
      "=================================================================\n",
      "input_2 (InputLayer)         (None, 3072)              0         \n",
      "_________________________________________________________________\n",
      "hidden_layer1 (Dense)        (None, 1024)              3146752   \n",
      "_________________________________________________________________\n",
      "dropout_1 (Dropout)          (None, 1024)              0         \n",
      "_________________________________________________________________\n",
      "hidden_layer2 (Dense)        (None, 512)               524800    \n",
      "_________________________________________________________________\n",
      "dropout_2 (Dropout)          (None, 512)               0         \n",
      "_________________________________________________________________\n",
      "hidden_layer3 (Dense)        (None, 256)               131328    \n",
      "_________________________________________________________________\n",
      "dropout_3 (Dropout)          (None, 256)               0         \n",
      "_________________________________________________________________\n",
      "hidden_layer4 (Dense)        (None, 128)               32896     \n",
      "_________________________________________________________________\n",
      "dropout_4 (Dropout)          (None, 128)               0         \n",
      "_________________________________________________________________\n",
      "output (Dense)               (None, 10)                1290      \n",
      "=================================================================\n",
      "Total params: 3,837,066\n",
      "Trainable params: 3,837,066\n",
      "Non-trainable params: 0\n",
      "_________________________________________________________________\n",
      "Train on 50000 samples, validate on 10000 samples\n",
      "Epoch 1/50\n",
      "50000/50000 [==============================] - 26s 510us/step - loss: 2.0937 - accuracy: 0.2156 - val_loss: 1.8941 - val_accuracy: 0.2947\n",
      "Epoch 2/50\n",
      "50000/50000 [==============================] - 25s 498us/step - loss: 1.8838 - accuracy: 0.3133 - val_loss: 1.7556 - val_accuracy: 0.3693\n",
      "Epoch 3/50\n",
      "50000/50000 [==============================] - 25s 501us/step - loss: 1.8144 - accuracy: 0.3425 - val_loss: 1.7258 - val_accuracy: 0.3883\n",
      "Epoch 4/50\n",
      "50000/50000 [==============================] - 25s 501us/step - loss: 1.7732 - accuracy: 0.3605 - val_loss: 1.6832 - val_accuracy: 0.3970\n",
      "Epoch 5/50\n",
      "50000/50000 [==============================] - 25s 496us/step - loss: 1.7480 - accuracy: 0.3680 - val_loss: 1.6611 - val_accuracy: 0.4047\n",
      "Epoch 6/50\n",
      "50000/50000 [==============================] - 25s 498us/step - loss: 1.7278 - accuracy: 0.3774 - val_loss: 1.6099 - val_accuracy: 0.4298\n",
      "Epoch 7/50\n",
      "50000/50000 [==============================] - 25s 496us/step - loss: 1.7056 - accuracy: 0.3886 - val_loss: 1.6272 - val_accuracy: 0.4311\n",
      "Epoch 8/50\n",
      "50000/50000 [==============================] - 25s 504us/step - loss: 1.6799 - accuracy: 0.3929 - val_loss: 1.6065 - val_accuracy: 0.4302\n",
      "Epoch 9/50\n",
      "50000/50000 [==============================] - 25s 498us/step - loss: 1.6728 - accuracy: 0.3980 - val_loss: 1.6007 - val_accuracy: 0.4293\n",
      "Epoch 10/50\n",
      "50000/50000 [==============================] - 25s 499us/step - loss: 1.6481 - accuracy: 0.4041 - val_loss: 1.6132 - val_accuracy: 0.4278\n",
      "Epoch 11/50\n",
      "50000/50000 [==============================] - 25s 509us/step - loss: 1.6400 - accuracy: 0.4108 - val_loss: 1.5446 - val_accuracy: 0.4574\n",
      "Epoch 12/50\n",
      "50000/50000 [==============================] - 25s 495us/step - loss: 1.6244 - accuracy: 0.4176 - val_loss: 1.5521 - val_accuracy: 0.4509\n",
      "Epoch 13/50\n",
      "50000/50000 [==============================] - 25s 502us/step - loss: 1.6158 - accuracy: 0.4189 - val_loss: 1.5471 - val_accuracy: 0.4576\n",
      "Epoch 14/50\n",
      "50000/50000 [==============================] - 25s 500us/step - loss: 1.6165 - accuracy: 0.4166 - val_loss: 1.5559 - val_accuracy: 0.4528\n",
      "Epoch 15/50\n",
      "50000/50000 [==============================] - 25s 508us/step - loss: 1.6023 - accuracy: 0.4222 - val_loss: 1.5519 - val_accuracy: 0.4525\n",
      "Epoch 16/50\n",
      "50000/50000 [==============================] - 25s 498us/step - loss: 1.5780 - accuracy: 0.4331 - val_loss: 1.5598 - val_accuracy: 0.4541\n",
      "Epoch 17/50\n",
      "50000/50000 [==============================] - 25s 504us/step - loss: 1.5814 - accuracy: 0.4315 - val_loss: 1.5014 - val_accuracy: 0.4707\n",
      "Epoch 18/50\n",
      "50000/50000 [==============================] - 25s 495us/step - loss: 1.5719 - accuracy: 0.4332 - val_loss: 1.5635 - val_accuracy: 0.4488\n",
      "Epoch 19/50\n",
      "50000/50000 [==============================] - 25s 501us/step - loss: 1.5632 - accuracy: 0.4390 - val_loss: 1.5420 - val_accuracy: 0.4630\n",
      "Epoch 20/50\n",
      "50000/50000 [==============================] - 25s 496us/step - loss: 1.5570 - accuracy: 0.4423 - val_loss: 1.4923 - val_accuracy: 0.4728\n",
      "Epoch 21/50\n",
      "50000/50000 [==============================] - 25s 501us/step - loss: 1.5467 - accuracy: 0.4467 - val_loss: 1.4773 - val_accuracy: 0.4812\n",
      "Epoch 22/50\n",
      "50000/50000 [==============================] - 26s 511us/step - loss: 1.5417 - accuracy: 0.4484 - val_loss: 1.4960 - val_accuracy: 0.4732\n",
      "Epoch 23/50\n",
      "50000/50000 [==============================] - 26s 513us/step - loss: 1.5376 - accuracy: 0.4477 - val_loss: 1.4693 - val_accuracy: 0.4823\n",
      "Epoch 24/50\n",
      "50000/50000 [==============================] - 26s 520us/step - loss: 1.5380 - accuracy: 0.4500 - val_loss: 1.4724 - val_accuracy: 0.4790\n",
      "Epoch 25/50\n",
      "50000/50000 [==============================] - 33s 651us/step - loss: 1.5225 - accuracy: 0.4538 - val_loss: 1.4876 - val_accuracy: 0.4636\n",
      "Epoch 26/50\n",
      "50000/50000 [==============================] - 30s 592us/step - loss: 1.5212 - accuracy: 0.4534 - val_loss: 1.4685 - val_accuracy: 0.4761\n",
      "Epoch 27/50\n",
      "50000/50000 [==============================] - 25s 506us/step - loss: 1.5204 - accuracy: 0.4562 - val_loss: 1.4513 - val_accuracy: 0.4836\n",
      "Epoch 28/50\n",
      "50000/50000 [==============================] - 25s 506us/step - loss: 1.5081 - accuracy: 0.4591 - val_loss: 1.4794 - val_accuracy: 0.4772\n",
      "Epoch 29/50\n",
      "50000/50000 [==============================] - 25s 508us/step - loss: 1.5010 - accuracy: 0.4621 - val_loss: 1.4645 - val_accuracy: 0.4800\n",
      "Epoch 30/50\n",
      "50000/50000 [==============================] - 25s 505us/step - loss: 1.5016 - accuracy: 0.4631 - val_loss: 1.4957 - val_accuracy: 0.4702\n",
      "Epoch 31/50\n",
      "50000/50000 [==============================] - 25s 502us/step - loss: 1.5009 - accuracy: 0.4637 - val_loss: 1.5009 - val_accuracy: 0.4742\n",
      "Epoch 32/50\n",
      "50000/50000 [==============================] - 25s 500us/step - loss: 1.5032 - accuracy: 0.4625 - val_loss: 1.4607 - val_accuracy: 0.4839\n",
      "Epoch 33/50\n",
      "50000/50000 [==============================] - 25s 505us/step - loss: 1.4901 - accuracy: 0.4642 - val_loss: 1.4809 - val_accuracy: 0.4817\n",
      "Epoch 34/50\n",
      "50000/50000 [==============================] - 25s 503us/step - loss: 1.4838 - accuracy: 0.4677 - val_loss: 1.4526 - val_accuracy: 0.4859\n",
      "Epoch 35/50\n",
      "50000/50000 [==============================] - 25s 500us/step - loss: 1.4789 - accuracy: 0.4712 - val_loss: 1.4383 - val_accuracy: 0.4950\n",
      "Epoch 36/50\n",
      "50000/50000 [==============================] - 25s 500us/step - loss: 1.4782 - accuracy: 0.4686 - val_loss: 1.4244 - val_accuracy: 0.4940\n",
      "Epoch 37/50\n",
      "50000/50000 [==============================] - 25s 502us/step - loss: 1.4688 - accuracy: 0.4759 - val_loss: 1.4574 - val_accuracy: 0.4793\n",
      "Epoch 38/50\n",
      "50000/50000 [==============================] - 25s 503us/step - loss: 1.4660 - accuracy: 0.4774 - val_loss: 1.4353 - val_accuracy: 0.4947\n",
      "Epoch 39/50\n",
      "50000/50000 [==============================] - 25s 495us/step - loss: 1.4691 - accuracy: 0.4730 - val_loss: 1.4409 - val_accuracy: 0.4951\n",
      "Epoch 40/50\n",
      "50000/50000 [==============================] - 25s 500us/step - loss: 1.4509 - accuracy: 0.4818 - val_loss: 1.4336 - val_accuracy: 0.5014\n",
      "Epoch 41/50\n",
      "50000/50000 [==============================] - 25s 502us/step - loss: 1.4553 - accuracy: 0.4811 - val_loss: 1.4157 - val_accuracy: 0.5052\n",
      "Epoch 42/50\n",
      "50000/50000 [==============================] - 25s 497us/step - loss: 1.4508 - accuracy: 0.4822 - val_loss: 1.4307 - val_accuracy: 0.4964\n",
      "Epoch 43/50\n",
      "50000/50000 [==============================] - 25s 500us/step - loss: 1.4467 - accuracy: 0.4812 - val_loss: 1.4577 - val_accuracy: 0.4853\n",
      "Epoch 44/50\n"
     ]
    },
    {
     "name": "stdout",
     "output_type": "stream",
     "text": [
      "50000/50000 [==============================] - 24s 488us/step - loss: 1.4426 - accuracy: 0.4823 - val_loss: 1.4257 - val_accuracy: 0.4986\n",
      "Epoch 45/50\n",
      "50000/50000 [==============================] - 25s 502us/step - loss: 1.4404 - accuracy: 0.4841 - val_loss: 1.4429 - val_accuracy: 0.4920\n",
      "Epoch 46/50\n",
      "50000/50000 [==============================] - 25s 499us/step - loss: 1.4337 - accuracy: 0.4889 - val_loss: 1.4242 - val_accuracy: 0.5018\n",
      "Epoch 47/50\n",
      "50000/50000 [==============================] - 25s 491us/step - loss: 1.4280 - accuracy: 0.4895 - val_loss: 1.4266 - val_accuracy: 0.5007\n",
      "Epoch 48/50\n",
      "50000/50000 [==============================] - 25s 494us/step - loss: 1.4221 - accuracy: 0.4914 - val_loss: 1.4102 - val_accuracy: 0.4955\n",
      "Epoch 49/50\n",
      "50000/50000 [==============================] - 25s 493us/step - loss: 1.4292 - accuracy: 0.4866 - val_loss: 1.4141 - val_accuracy: 0.5019\n",
      "Epoch 50/50\n",
      "50000/50000 [==============================] - 25s 495us/step - loss: 1.4196 - accuracy: 0.4915 - val_loss: 1.4329 - val_accuracy: 0.4925\n"
     ]
    }
   ],
   "source": [
    "results = {}\n",
    "\"\"\"Code Here\n",
    "撰寫你的訓練流程並將結果用 dictionary 紀錄\n",
    "\"\"\"\n",
    "model = build_mlp(input_shape=x_train.shape[1:], drp_ratio=Dropout_EXP)\n",
    "model.summary()\n",
    "optimizer = keras.optimizers.Adam(lr=LEARNING_RATE)\n",
    "model.compile(loss=\"categorical_crossentropy\", metrics=[\"accuracy\"], optimizer=optimizer)\n",
    "\n",
    "model.fit(x_train, y_train, \n",
    "          epochs=EPOCHS, \n",
    "          batch_size=BATCH_SIZE, \n",
    "          validation_data=(x_test, y_test), \n",
    "          shuffle=True)\n",
    "\n",
    "# Collect results\n",
    "train_loss = model.history.history[\"loss\"]\n",
    "valid_loss = model.history.history[\"val_loss\"]\n",
    "train_acc = model.history.history[\"accuracy\"]\n",
    "valid_acc = model.history.history[\"val_accuracy\"]"
   ]
  },
  {
   "cell_type": "code",
   "execution_count": 11,
   "metadata": {},
   "outputs": [
    {
     "data": {
      "image/png": "[encoded data removed]",
      "text/plain": [
       "<Figure size 432x288 with 1 Axes>"
      ]
     },
     "metadata": {
      "needs_background": "light"
     },
     "output_type": "display_data"
    },
    {
     "data": {
      "image/png": "[encoded data removed]",
      "text/plain": [
       "<Figure size 432x288 with 1 Axes>"
      ]
     },
     "metadata": {
      "needs_background": "light"
     },
     "output_type": "display_data"
    }
   ],
   "source": [
    "import matplotlib.pyplot as plt\n",
    "%matplotlib inline\n",
    "\"\"\"Code Here\n",
    "將結果繪出\n",
    "\"\"\"\n",
    "plt.plot(range(len(train_loss)), train_loss, label=\"train loss\")\n",
    "plt.plot(range(len(valid_loss)), valid_loss, label=\"valid loss\")\n",
    "plt.legend()\n",
    "plt.title(\"Loss\")\n",
    "plt.show()\n",
    "\n",
    "plt.plot(range(len(train_acc)), train_acc, label=\"train accuracy\")\n",
    "plt.plot(range(len(valid_acc)), valid_acc, label=\"valid accuracy\")\n",
    "plt.legend()\n",
    "plt.title(\"Accuracy\")\n",
    "plt.show()"
   ]
  },
  {
   "cell_type": "code",
   "execution_count": null,
   "metadata": {},
   "outputs": [],
   "source": []
  }
 ],
 "metadata": {
  "kernelspec": {
   "display_name": "Python 3",
   "language": "python",
   "name": "python3"
  },
  "language_info": {
   "codemirror_mode": {
    "name": "ipython",
    "version": 3
   },
   "file_extension": ".py",
   "mimetype": "text/x-python",
   "name": "python",
   "nbconvert_exporter": "python",
   "pygments_lexer": "ipython3",
   "version": "3.7.3"
  }
 },
 "nbformat": 4,
 "nbformat_minor": 2
}
