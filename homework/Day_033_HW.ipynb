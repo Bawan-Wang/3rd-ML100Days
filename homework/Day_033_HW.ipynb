{
 "cells": [
  {
   "cell_type": "markdown",
   "metadata": {},
   "source": [
    "## 練習時間"
   ]
  },
  {
   "cell_type": "markdown",
   "metadata": {},
   "source": [
    "請觀看李宏毅教授以神奇寶貝進化 CP 值預測的範例，解說何謂機器學習與過擬合。並回答以下問題"
   ]
  },
  {
   "cell_type": "markdown",
   "metadata": {},
   "source": [
    "[youtube](https://www.youtube.com/watch?v=fegAeph9UaA)"
   ]
  },
  {
   "cell_type": "markdown",
   "metadata": {},
   "source": [
    "### 1. 模型的泛化能力 (generalization) 是指什麼？ \n",
    "一般我們在做machine learning的時候，會將DB分為Training data與testing data。透過Training data來訓練model後，理想上我們會期望model也能夠識別不在Training data內的testing data，這樣的能力就稱為泛化能力(generalization)。通常我們會用Average error來評估model的泛化能力好壞，當一個訓練好的model對testing data的Average error越小，就表示這個model的泛化能力越好。\n",
    "### 2. 分類問題與回歸問題分別可用的目標函數有哪些？\n",
    "均⽅方差(MSE)函數、平均絕對誤差(MAE)函數等等..."
   ]
  }
 ],
 "metadata": {
  "kernelspec": {
   "display_name": "Python 3",
   "language": "python",
   "name": "python3"
  },
  "language_info": {
   "codemirror_mode": {
    "name": "ipython",
    "version": 3
   },
   "file_extension": ".py",
   "mimetype": "text/x-python",
   "name": "python",
   "nbconvert_exporter": "python",
   "pygments_lexer": "ipython3",
   "version": "3.7.3"
  }
 },
 "nbformat": 4,
 "nbformat_minor": 2
}
