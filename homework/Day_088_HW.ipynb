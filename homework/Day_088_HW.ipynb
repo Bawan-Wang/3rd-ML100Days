{
 "cells": [
  {
   "cell_type": "markdown",
   "metadata": {},
   "source": [
    "## Work\n",
    "1. 請嘗試寫一個 callback 用來記錄各類別在訓練過程中，對驗證集的 True Positive 與 True Negative"
   ]
  },
  {
   "cell_type": "code",
   "execution_count": 1,
   "metadata": {},
   "outputs": [
    {
     "name": "stderr",
     "output_type": "stream",
     "text": [
      "Using TensorFlow backend.\n"
     ]
    }
   ],
   "source": [
    "import os\n",
    "import keras\n",
    "\n",
    "# Disable GPU\n",
    "os.environ[\"CUDA_VISIBLE_DEVICES\"] = \"\""
   ]
  },
  {
   "cell_type": "code",
   "execution_count": 2,
   "metadata": {},
   "outputs": [],
   "source": [
    "train, test = keras.datasets.cifar10.load_data()"
   ]
  },
  {
   "cell_type": "code",
   "execution_count": 3,
   "metadata": {},
   "outputs": [],
   "source": [
    "## 資料前處理\n",
    "def preproc_x(x, flatten=True):\n",
    "    x = x / 255.\n",
    "    if flatten:\n",
    "        x = x.reshape((len(x), -1))\n",
    "    return x\n",
    "\n",
    "def preproc_y(y, num_classes=10):\n",
    "    if y.shape[-1] == 1:\n",
    "        y = keras.utils.to_categorical(y, num_classes)\n",
    "    return y    "
   ]
  },
  {
   "cell_type": "code",
   "execution_count": 4,
   "metadata": {},
   "outputs": [],
   "source": [
    "x_train, y_train = train\n",
    "x_test, y_test = test\n",
    "\n",
    "# Preproc the inputs\n",
    "x_train = preproc_x(x_train)\n",
    "x_test = preproc_x(x_test)\n",
    "\n",
    "# Preprc the outputs\n",
    "y_train = preproc_y(y_train)\n",
    "y_test = preproc_y(y_test)"
   ]
  },
  {
   "cell_type": "code",
   "execution_count": 5,
   "metadata": {},
   "outputs": [],
   "source": [
    "from keras.layers import BatchNormalization\n",
    "def build_mlp(input_shape, output_units=10, num_neurons=[256, 256, 256]):\n",
    "    \"\"\"Code Here\n",
    "    建立你的神經網路\n",
    "    \"\"\"\n",
    "    input_layer = keras.layers.Input(input_shape)\n",
    "    \n",
    "    for i, n_units in enumerate(num_neurons):\n",
    "        if i == 0:\n",
    "            x = keras.layers.Dense(units=n_units, \n",
    "                                   activation=\"relu\", \n",
    "                                   name=\"hidden_layer\"+str(i+1))(input_layer)\n",
    "        else:\n",
    "            x = keras.layers.Dense(units=n_units, \n",
    "                                   activation=\"relu\", \n",
    "                                   name=\"hidden_layer\"+str(i+1))(x)\n",
    "    \n",
    "    out = keras.layers.Dense(units=output_units, activation=\"softmax\", name=\"output\")(x)\n",
    "    \n",
    "    model = keras.models.Model(inputs=[input_layer], outputs=[out])    \n",
    "    return model"
   ]
  },
  {
   "cell_type": "code",
   "execution_count": 6,
   "metadata": {},
   "outputs": [],
   "source": [
    "## 超參數設定\n",
    "LEARNING_RATE = 1e-3\n",
    "EPOCHS = 25\n",
    "BATCH_SIZE = 1024\n",
    "MOMENTUM = 0.95"
   ]
  },
  {
   "cell_type": "code",
   "execution_count": 7,
   "metadata": {},
   "outputs": [],
   "source": [
    "# 載入 Callbacks\n",
    "from keras.callbacks import Callback\n",
    "import numpy as np\n",
    "\n",
    "# Record_fp_tp\n",
    "class Record_tp_tn(Callback):\n",
    "    \"\"\"Code Here\n",
    "    撰寫一個紀錄 ture positive 與 true negative 數量的 callbacks    \n",
    "    \"\"\"\n",
    "    def on_train_begin(self, epoch, logs = {}):\n",
    "        logs = logs or {}\n",
    "        record_items = [\"accuracy\", \"val_fp\", \"val_fn\", \"val_tp\", \"val_tn\"]\n",
    "        for i in record_items:\n",
    "            if i not in self.params['metrics']:\n",
    "                self.params['metrics'].append(i)\n",
    "\n",
    "    def on_epoch_end(self, epoch, logs = {}, thres=0.5):\n",
    "        logs = logs or {}\n",
    "        y_true = self.validation_data[0]\n",
    "        y_true = (y_true[:, 1] >= thres) * 1\n",
    "        y_pred_true = self.model.predict(self.validation_data[0])\n",
    "        y_pred_true = (y_pred_true[:, 1] >= thres) * 1\n",
    "        y_false = y_true.copy()\n",
    "        #y_false[y_false == 1] = 2\n",
    "        #y_false[y_false == 0] = 1\n",
    "        #y_false[y_false == 2] = 0\n",
    "        y_false = self.validation_data[0]\n",
    "        y_false = (y_false[:, 1] < thres) * 1\n",
    "        y_pred_false = self.model.predict(self.validation_data[0])\n",
    "        y_pred_false = (y_pred_false[:, 1] < thres) * 1 \n",
    "        \n",
    "        logs[\"val_tp\"] = np.dot(y_pred_true, y_true)\n",
    "        logs[\"val_tn\"] = np.dot(y_pred_false, y_false)\n",
    "        \n",
    "rec_tptn = Record_tp_tn()"
   ]
  },
  {
   "cell_type": "code",
   "execution_count": 8,
   "metadata": {
    "scrolled": true
   },
   "outputs": [
    {
     "name": "stdout",
     "output_type": "stream",
     "text": [
      "Model: \"model_1\"\n",
      "_________________________________________________________________\n",
      "Layer (type)                 Output Shape              Param #   \n",
      "=================================================================\n",
      "input_1 (InputLayer)         (None, 3072)              0         \n",
      "_________________________________________________________________\n",
      "hidden_layer1 (Dense)        (None, 256)               786688    \n",
      "_________________________________________________________________\n",
      "hidden_layer2 (Dense)        (None, 256)               65792     \n",
      "_________________________________________________________________\n",
      "hidden_layer3 (Dense)        (None, 256)               65792     \n",
      "_________________________________________________________________\n",
      "output (Dense)               (None, 10)                2570      \n",
      "=================================================================\n",
      "Total params: 920,842\n",
      "Trainable params: 920,842\n",
      "Non-trainable params: 0\n",
      "_________________________________________________________________\n",
      "Train on 50000 samples, validate on 10000 samples\n",
      "Epoch 1/25\n",
      "50000/50000 [==============================] - 6s 111us/step - loss: 2.2498 - accuracy: 0.1572 - val_loss: 2.1722 - val_accuracy: 0.2174\n",
      "Epoch 2/25\n",
      "50000/50000 [==============================] - 5s 97us/step - loss: 2.1057 - accuracy: 0.2414 - val_loss: 2.0425 - val_accuracy: 0.2623\n",
      "Epoch 3/25\n",
      "50000/50000 [==============================] - 5s 100us/step - loss: 2.0016 - accuracy: 0.2866 - val_loss: 1.9640 - val_accuracy: 0.2972\n",
      "Epoch 4/25\n",
      "50000/50000 [==============================] - 5s 100us/step - loss: 1.9377 - accuracy: 0.3154 - val_loss: 1.9148 - val_accuracy: 0.3287\n",
      "Epoch 5/25\n",
      "50000/50000 [==============================] - 5s 96us/step - loss: 1.8944 - accuracy: 0.3339 - val_loss: 1.8779 - val_accuracy: 0.3407\n",
      "Epoch 6/25\n",
      "50000/50000 [==============================] - 5s 96us/step - loss: 1.8605 - accuracy: 0.3469 - val_loss: 1.8479 - val_accuracy: 0.3534\n",
      "Epoch 7/25\n",
      "50000/50000 [==============================] - 5s 96us/step - loss: 1.8327 - accuracy: 0.3585 - val_loss: 1.8229 - val_accuracy: 0.3622\n",
      "Epoch 8/25\n",
      "50000/50000 [==============================] - 5s 100us/step - loss: 1.8086 - accuracy: 0.3665 - val_loss: 1.8006 - val_accuracy: 0.3714\n",
      "Epoch 9/25\n",
      "50000/50000 [==============================] - 5s 100us/step - loss: 1.7862 - accuracy: 0.3736 - val_loss: 1.7789 - val_accuracy: 0.3797\n",
      "Epoch 10/25\n",
      "50000/50000 [==============================] - 6s 114us/step - loss: 1.7660 - accuracy: 0.3816 - val_loss: 1.7615 - val_accuracy: 0.3853\n",
      "Epoch 11/25\n",
      "50000/50000 [==============================] - 5s 96us/step - loss: 1.7476 - accuracy: 0.3870 - val_loss: 1.7450 - val_accuracy: 0.3920\n",
      "Epoch 12/25\n",
      "50000/50000 [==============================] - 5s 101us/step - loss: 1.7308 - accuracy: 0.3944 - val_loss: 1.7266 - val_accuracy: 0.4027\n",
      "Epoch 13/25\n",
      "50000/50000 [==============================] - 6s 116us/step - loss: 1.7154 - accuracy: 0.3988 - val_loss: 1.7153 - val_accuracy: 0.4049\n",
      "Epoch 14/25\n",
      "50000/50000 [==============================] - 6s 118us/step - loss: 1.7015 - accuracy: 0.4045 - val_loss: 1.6997 - val_accuracy: 0.4113\n",
      "Epoch 15/25\n",
      "50000/50000 [==============================] - 6s 111us/step - loss: 1.6878 - accuracy: 0.4103 - val_loss: 1.6861 - val_accuracy: 0.4138\n",
      "Epoch 16/25\n",
      "50000/50000 [==============================] - 5s 109us/step - loss: 1.6751 - accuracy: 0.4138 - val_loss: 1.6761 - val_accuracy: 0.4165\n",
      "Epoch 17/25\n",
      "50000/50000 [==============================] - 5s 109us/step - loss: 1.6635 - accuracy: 0.4169 - val_loss: 1.6629 - val_accuracy: 0.4188\n",
      "Epoch 18/25\n",
      "50000/50000 [==============================] - 6s 111us/step - loss: 1.6507 - accuracy: 0.4225 - val_loss: 1.6531 - val_accuracy: 0.4212\n",
      "Epoch 19/25\n",
      "50000/50000 [==============================] - 5s 108us/step - loss: 1.6397 - accuracy: 0.4272 - val_loss: 1.6425 - val_accuracy: 0.4286\n",
      "Epoch 20/25\n",
      "50000/50000 [==============================] - 5s 107us/step - loss: 1.6287 - accuracy: 0.4309 - val_loss: 1.6330 - val_accuracy: 0.4282\n",
      "Epoch 21/25\n",
      "50000/50000 [==============================] - 6s 110us/step - loss: 1.6176 - accuracy: 0.4350 - val_loss: 1.6263 - val_accuracy: 0.4321\n",
      "Epoch 22/25\n",
      "50000/50000 [==============================] - 6s 111us/step - loss: 1.6084 - accuracy: 0.4371 - val_loss: 1.6146 - val_accuracy: 0.4344\n",
      "Epoch 23/25\n",
      "50000/50000 [==============================] - 5s 108us/step - loss: 1.5977 - accuracy: 0.4414 - val_loss: 1.6067 - val_accuracy: 0.4360\n",
      "Epoch 24/25\n",
      "50000/50000 [==============================] - 6s 115us/step - loss: 1.5888 - accuracy: 0.4441 - val_loss: 1.5974 - val_accuracy: 0.4400\n",
      "Epoch 25/25\n",
      "50000/50000 [==============================] - 6s 116us/step - loss: 1.5787 - accuracy: 0.4480 - val_loss: 1.5902 - val_accuracy: 0.4438\n"
     ]
    }
   ],
   "source": [
    "model = build_mlp(input_shape=x_train.shape[1:])\n",
    "model.summary()\n",
    "optimizer = keras.optimizers.SGD(lr=LEARNING_RATE, nesterov=True, momentum=MOMENTUM)\n",
    "model.compile(loss=\"categorical_crossentropy\", metrics=[\"accuracy\"], optimizer=optimizer)\n",
    "\n",
    "\"\"\"Code Here\n",
    "將 callbacks 放入模型訓練流程中\n",
    "\"\"\"\n",
    "\n",
    "model.fit(x_train, y_train, \n",
    "          epochs=EPOCHS, \n",
    "          batch_size=BATCH_SIZE, \n",
    "          validation_data=(x_test, y_test), \n",
    "          shuffle=True,\n",
    "          callbacks=[rec_tptn]\n",
    "         )\n",
    "\n",
    "# Collect results\n",
    "train_loss = model.history.history[\"loss\"]\n",
    "valid_loss = model.history.history[\"val_loss\"]\n",
    "train_acc = model.history.history[\"accuracy\"]\n",
    "valid_acc = model.history.history[\"val_accuracy\"]\n",
    "\n",
    "\"\"\"Code Here\n",
    "將 tp/tn 從訓練完的模型中取出\n",
    "\"\"\"\n",
    "valid_tp = model.history.history['val_tp']\n",
    "valid_tn = model.history.history['val_tn']"
   ]
  },
  {
   "cell_type": "code",
   "execution_count": 9,
   "metadata": {},
   "outputs": [
    {
     "data": {
      "image/png": "[encoded data removed]",
      "text/plain": [
       "<Figure size 432x288 with 1 Axes>"
      ]
     },
     "metadata": {
      "needs_background": "light"
     },
     "output_type": "display_data"
    },
    {
     "data": {
      "image/png": "[encoded data removed]",
      "text/plain": [
       "<Figure size 432x288 with 1 Axes>"
      ]
     },
     "metadata": {
      "needs_background": "light"
     },
     "output_type": "display_data"
    },
    {
     "data": {
      "image/png": "[encoded data removed]",
      "text/plain": [
       "<Figure size 432x288 with 1 Axes>"
      ]
     },
     "metadata": {
      "needs_background": "light"
     },
     "output_type": "display_data"
    }
   ],
   "source": [
    "import matplotlib.pyplot as plt\n",
    "%matplotlib inline\n",
    "\n",
    "plt.plot(range(len(train_loss)), train_loss, label=\"train loss\")\n",
    "plt.plot(range(len(valid_loss)), valid_loss, label=\"valid loss\")\n",
    "plt.legend()\n",
    "plt.title(\"Loss\")\n",
    "plt.show()\n",
    "\n",
    "plt.plot(range(len(train_acc)), train_acc, label=\"train accuracy\")\n",
    "plt.plot(range(len(valid_acc)), valid_acc, label=\"valid accuracy\")\n",
    "plt.legend()\n",
    "plt.title(\"Accuracy\")\n",
    "plt.show()\n",
    "\n",
    "plt.plot(range(len(valid_tp)), valid_tp, label=\"valid tp\", color=\"navy\")\n",
    "plt.plot(range(len(valid_tn)), valid_tn, label=\"valid tn\", color=\"red\")\n",
    "plt.legend()\n",
    "plt.title(\"True positives and True Negatives\")\n",
    "plt.show()\n"
   ]
  },
  {
   "cell_type": "code",
   "execution_count": null,
   "metadata": {},
   "outputs": [],
   "source": []
  }
 ],
 "metadata": {
  "kernelspec": {
   "display_name": "Python 3",
   "language": "python",
   "name": "python3"
  },
  "language_info": {
   "codemirror_mode": {
    "name": "ipython",
    "version": 3
   },
   "file_extension": ".py",
   "mimetype": "text/x-python",
   "name": "python",
   "nbconvert_exporter": "python",
   "pygments_lexer": "ipython3",
   "version": "3.7.3"
  }
 },
 "nbformat": 4,
 "nbformat_minor": 2
}
