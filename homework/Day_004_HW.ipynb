{
 "cells": [
  {
   "cell_type": "markdown",
   "metadata": {},
   "source": [
    "## 練習時間\n",
    "資料的操作有很多，接下來的馬拉松中我們會介紹常被使用到的操作，參加者不妨先自行想像一下，第一次看到資料，我們一般會想知道什麼訊息？\n",
    "\n",
    "#### Ex: 如何知道資料的 row 數以及 column 數、有什麼欄位、多少欄位、如何截取部分的資料等等\n",
    "\n",
    "有了對資料的好奇之後，我們又怎麼通過程式碼來達成我們的目的呢？\n",
    "\n",
    "#### 可參考該[基礎教材](https://bookdata.readthedocs.io/en/latest/base/01_pandas.html#DataFrame-%E5%85%A5%E9%97%A8)或自行 google"
   ]
  },
  {
   "cell_type": "markdown",
   "metadata": {},
   "source": [
    "# [作業目標]\n",
    "- 熟悉更多的 Python 資料操作"
   ]
  },
  {
   "cell_type": "markdown",
   "metadata": {},
   "source": [
    "# [作業重點]\n",
    "- 列出資料的大小 (In[4], Hint : shape)\n",
    "- 列出所有欄位 (In[5], 有多種寫法)\n",
    "- 擷取部分資料 (In[6], Hint : loc 或 iloc)"
   ]
  },
  {
   "cell_type": "code",
   "execution_count": 1,
   "metadata": {},
   "outputs": [],
   "source": [
    "import os\n",
    "import numpy as np\n",
    "import pandas as pd"
   ]
  },
  {
   "cell_type": "code",
   "execution_count": 2,
   "metadata": {},
   "outputs": [],
   "source": [
    "# 設定 data_path\n",
    "dir_data = './data/'"
   ]
  },
  {
   "cell_type": "code",
   "execution_count": 3,
   "metadata": {},
   "outputs": [
    {
     "name": "stdout",
     "output_type": "stream",
     "text": [
      "Path of read in data: ./data/application_train.csv\n"
     ]
    }
   ],
   "source": [
    "f_app = os.path.join(dir_data, 'application_train.csv')\n",
    "print('Path of read in data: %s' % (f_app))\n",
    "app_train = pd.read_csv(f_app)"
   ]
  },
  {
   "cell_type": "markdown",
   "metadata": {},
   "source": [
    "### 如果沒有想法，可以先嘗試找出剛剛例子中提到的問題的答案\n",
    "#### 資料的 row 數以及 column 數"
   ]
  },
  {
   "cell_type": "code",
   "execution_count": 4,
   "metadata": {},
   "outputs": [
    {
     "data": {
      "text/plain": [
       "(307511, 122)"
      ]
     },
     "execution_count": 4,
     "metadata": {},
     "output_type": "execute_result"
    }
   ],
   "source": [
    "app_train.shape"
   ]
  },
  {
   "cell_type": "markdown",
   "metadata": {},
   "source": [
    "#### 列出所有欄位"
   ]
  },
  {
   "cell_type": "code",
   "execution_count": 7,
   "metadata": {},
   "outputs": [
    {
     "name": "stdout",
     "output_type": "stream",
     "text": [
      "<class 'pandas.core.frame.DataFrame'>\n",
      "RangeIndex: 307511 entries, 0 to 307510\n",
      "Data columns (total 122 columns):\n",
      "SK_ID_CURR                      int64\n",
      "TARGET                          int64\n",
      "NAME_CONTRACT_TYPE              object\n",
      "CODE_GENDER                     object\n",
      "FLAG_OWN_CAR                    object\n",
      "FLAG_OWN_REALTY                 object\n",
      "CNT_CHILDREN                    int64\n",
      "AMT_INCOME_TOTAL                float64\n",
      "AMT_CREDIT                      float64\n",
      "AMT_ANNUITY                     float64\n",
      "AMT_GOODS_PRICE                 float64\n",
      "NAME_TYPE_SUITE                 object\n",
      "NAME_INCOME_TYPE                object\n",
      "NAME_EDUCATION_TYPE             object\n",
      "NAME_FAMILY_STATUS              object\n",
      "NAME_HOUSING_TYPE               object\n",
      "REGION_POPULATION_RELATIVE      float64\n",
      "DAYS_BIRTH                      int64\n",
      "DAYS_EMPLOYED                   int64\n",
      "DAYS_REGISTRATION               float64\n",
      "DAYS_ID_PUBLISH                 int64\n",
      "OWN_CAR_AGE                     float64\n",
      "FLAG_MOBIL                      int64\n",
      "FLAG_EMP_PHONE                  int64\n",
      "FLAG_WORK_PHONE                 int64\n",
      "FLAG_CONT_MOBILE                int64\n",
      "FLAG_PHONE                      int64\n",
      "FLAG_EMAIL                      int64\n",
      "OCCUPATION_TYPE                 object\n",
      "CNT_FAM_MEMBERS                 float64\n",
      "REGION_RATING_CLIENT            int64\n",
      "REGION_RATING_CLIENT_W_CITY     int64\n",
      "WEEKDAY_APPR_PROCESS_START      object\n",
      "HOUR_APPR_PROCESS_START         int64\n",
      "REG_REGION_NOT_LIVE_REGION      int64\n",
      "REG_REGION_NOT_WORK_REGION      int64\n",
      "LIVE_REGION_NOT_WORK_REGION     int64\n",
      "REG_CITY_NOT_LIVE_CITY          int64\n",
      "REG_CITY_NOT_WORK_CITY          int64\n",
      "LIVE_CITY_NOT_WORK_CITY         int64\n",
      "ORGANIZATION_TYPE               object\n",
      "EXT_SOURCE_1                    float64\n",
      "EXT_SOURCE_2                    float64\n",
      "EXT_SOURCE_3                    float64\n",
      "APARTMENTS_AVG                  float64\n",
      "BASEMENTAREA_AVG                float64\n",
      "YEARS_BEGINEXPLUATATION_AVG     float64\n",
      "YEARS_BUILD_AVG                 float64\n",
      "COMMONAREA_AVG                  float64\n",
      "ELEVATORS_AVG                   float64\n",
      "ENTRANCES_AVG                   float64\n",
      "FLOORSMAX_AVG                   float64\n",
      "FLOORSMIN_AVG                   float64\n",
      "LANDAREA_AVG                    float64\n",
      "LIVINGAPARTMENTS_AVG            float64\n",
      "LIVINGAREA_AVG                  float64\n",
      "NONLIVINGAPARTMENTS_AVG         float64\n",
      "NONLIVINGAREA_AVG               float64\n",
      "APARTMENTS_MODE                 float64\n",
      "BASEMENTAREA_MODE               float64\n",
      "YEARS_BEGINEXPLUATATION_MODE    float64\n",
      "YEARS_BUILD_MODE                float64\n",
      "COMMONAREA_MODE                 float64\n",
      "ELEVATORS_MODE                  float64\n",
      "ENTRANCES_MODE                  float64\n",
      "FLOORSMAX_MODE                  float64\n",
      "FLOORSMIN_MODE                  float64\n",
      "LANDAREA_MODE                   float64\n",
      "LIVINGAPARTMENTS_MODE           float64\n",
      "LIVINGAREA_MODE                 float64\n",
      "NONLIVINGAPARTMENTS_MODE        float64\n",
      "NONLIVINGAREA_MODE              float64\n",
      "APARTMENTS_MEDI                 float64\n",
      "BASEMENTAREA_MEDI               float64\n",
      "YEARS_BEGINEXPLUATATION_MEDI    float64\n",
      "YEARS_BUILD_MEDI                float64\n",
      "COMMONAREA_MEDI                 float64\n",
      "ELEVATORS_MEDI                  float64\n",
      "ENTRANCES_MEDI                  float64\n",
      "FLOORSMAX_MEDI                  float64\n",
      "FLOORSMIN_MEDI                  float64\n",
      "LANDAREA_MEDI                   float64\n",
      "LIVINGAPARTMENTS_MEDI           float64\n",
      "LIVINGAREA_MEDI                 float64\n",
      "NONLIVINGAPARTMENTS_MEDI        float64\n",
      "NONLIVINGAREA_MEDI              float64\n",
      "FONDKAPREMONT_MODE              object\n",
      "HOUSETYPE_MODE                  object\n",
      "TOTALAREA_MODE                  float64\n",
      "WALLSMATERIAL_MODE              object\n",
      "EMERGENCYSTATE_MODE             object\n",
      "OBS_30_CNT_SOCIAL_CIRCLE        float64\n",
      "DEF_30_CNT_SOCIAL_CIRCLE        float64\n",
      "OBS_60_CNT_SOCIAL_CIRCLE        float64\n",
      "DEF_60_CNT_SOCIAL_CIRCLE        float64\n",
      "DAYS_LAST_PHONE_CHANGE          float64\n",
      "FLAG_DOCUMENT_2                 int64\n",
      "FLAG_DOCUMENT_3                 int64\n",
      "FLAG_DOCUMENT_4                 int64\n",
      "FLAG_DOCUMENT_5                 int64\n",
      "FLAG_DOCUMENT_6                 int64\n",
      "FLAG_DOCUMENT_7                 int64\n",
      "FLAG_DOCUMENT_8                 int64\n",
      "FLAG_DOCUMENT_9                 int64\n",
      "FLAG_DOCUMENT_10                int64\n",
      "FLAG_DOCUMENT_11                int64\n",
      "FLAG_DOCUMENT_12                int64\n",
      "FLAG_DOCUMENT_13                int64\n",
      "FLAG_DOCUMENT_14                int64\n",
      "FLAG_DOCUMENT_15                int64\n",
      "FLAG_DOCUMENT_16                int64\n",
      "FLAG_DOCUMENT_17                int64\n",
      "FLAG_DOCUMENT_18                int64\n",
      "FLAG_DOCUMENT_19                int64\n",
      "FLAG_DOCUMENT_20                int64\n",
      "FLAG_DOCUMENT_21                int64\n",
      "AMT_REQ_CREDIT_BUREAU_HOUR      float64\n",
      "AMT_REQ_CREDIT_BUREAU_DAY       float64\n",
      "AMT_REQ_CREDIT_BUREAU_WEEK      float64\n",
      "AMT_REQ_CREDIT_BUREAU_MON       float64\n",
      "AMT_REQ_CREDIT_BUREAU_QRT       float64\n",
      "AMT_REQ_CREDIT_BUREAU_YEAR      float64\n",
      "dtypes: float64(65), int64(41), object(16)\n",
      "memory usage: 286.2+ MB\n"
     ]
    }
   ],
   "source": [
    "app_train.info(1)"
   ]
  },
  {
   "cell_type": "markdown",
   "metadata": {},
   "source": [
    "#### 截取部分資料"
   ]
  },
  {
   "cell_type": "code",
   "execution_count": 12,
   "metadata": {},
   "outputs": [
    {
     "data": {
      "text/plain": [
       "FLAG_OWN_REALTY          Y\n",
       "CNT_CHILDREN             0\n",
       "AMT_INCOME_TOTAL     67500\n",
       "AMT_CREDIT          135000\n",
       "AMT_ANNUITY           6750\n",
       "Name: 2, dtype: object"
      ]
     },
     "execution_count": 12,
     "metadata": {},
     "output_type": "execute_result"
    }
   ],
   "source": [
    "app_train.iloc[2,5:10]"
   ]
  },
  {
   "cell_type": "markdown",
   "metadata": {},
   "source": [
    "#### 還有各種數之不盡的資料操作，重點還是取決於實務中遇到的狀況和你想問的問題，在馬拉松中我們也會陸續提到更多例子"
   ]
  },
  {
   "cell_type": "code",
   "execution_count": 13,
   "metadata": {},
   "outputs": [
    {
     "data": {
      "text/plain": [
       "2     0\n",
       "3     0\n",
       "4     0\n",
       "5     0\n",
       "6     0\n",
       "7     0\n",
       "8     0\n",
       "9     0\n",
       "10    0\n",
       "Name: TARGET, dtype: int64"
      ]
     },
     "execution_count": 13,
     "metadata": {},
     "output_type": "execute_result"
    }
   ],
   "source": [
    "app_train.loc[2:10,'TARGET']"
   ]
  },
  {
   "cell_type": "code",
   "execution_count": null,
   "metadata": {},
   "outputs": [],
   "source": []
  }
 ],
 "metadata": {
  "kernelspec": {
   "display_name": "Python 3",
   "language": "python",
   "name": "python3"
  },
  "language_info": {
   "codemirror_mode": {
    "name": "ipython",
    "version": 3
   },
   "file_extension": ".py",
   "mimetype": "text/x-python",
   "name": "python",
   "nbconvert_exporter": "python",
   "pygments_lexer": "ipython3",
   "version": "3.7.3"
  }
 },
 "nbformat": 4,
 "nbformat_minor": 2
}
