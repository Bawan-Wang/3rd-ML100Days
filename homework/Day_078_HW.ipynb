{
 "cells": [
  {
   "cell_type": "markdown",
   "metadata": {},
   "source": [
    "## Work\n",
    "1. 請嘗試將 preproc_x 替換成以每筆資料的 min/max 進行標準化至 -1 ~ 1 間，再進行訓練\n",
    "2. 請嘗試將 mlp 疊更深 (e.g 5~10 層)，進行訓練後觀察 learning curve 的走勢\n",
    "3. (optional) 請改用 GPU 進行訓練 (如果你有 GPU 的話)，比較使用 CPU 與 GPU 的訓練速度"
   ]
  },
  {
   "cell_type": "code",
   "execution_count": 1,
   "metadata": {},
   "outputs": [
    {
     "name": "stderr",
     "output_type": "stream",
     "text": [
      "'nvidia-smi' 不是內部或外部命令、可執行的程式或批次檔。\n"
     ]
    }
   ],
   "source": [
    "## \n",
    "\"\"\"\n",
    "Your code here (optional)\n",
    "確認硬體資源\n",
    "\"\"\"\n",
    "!nvidia-smi"
   ]
  },
  {
   "cell_type": "code",
   "execution_count": 2,
   "metadata": {},
   "outputs": [
    {
     "name": "stderr",
     "output_type": "stream",
     "text": [
      "Using TensorFlow backend.\n"
     ]
    }
   ],
   "source": [
    "import os\n",
    "import keras\n",
    "\n",
    "# 請嘗試設定 GPU：os.environ\n",
    "os.environ[\"CUDA_VISIBLE_DEVICES\"] = \"\""
   ]
  },
  {
   "cell_type": "code",
   "execution_count": 3,
   "metadata": {},
   "outputs": [],
   "source": [
    "train, test = keras.datasets.cifar10.load_data()"
   ]
  },
  {
   "cell_type": "code",
   "execution_count": 4,
   "metadata": {},
   "outputs": [],
   "source": [
    "## 資料前處理\n",
    "\"\"\"\n",
    "Your code here\n",
    "\"\"\"\n",
    "def preproc_x(x, flatten=True):\n",
    "    x = (x - ((x.max() - x.min())/2)) / ((x.max() - x.min())/2)\n",
    "    if flatten:\n",
    "        x = x.reshape((len(x), -1))\n",
    "    return x\n",
    "\n",
    "def preproc_y(y, num_classes=10):\n",
    "    if y.shape[-1] == 1:\n",
    "        y = keras.utils.to_categorical(y, num_classes)\n",
    "    return y  "
   ]
  },
  {
   "cell_type": "code",
   "execution_count": 5,
   "metadata": {},
   "outputs": [],
   "source": [
    "x_train, y_train = train\n",
    "x_test, y_test = test\n",
    "\n",
    "# Preproc the inputs\n",
    "x_train = preproc_x(x_train)\n",
    "x_test = preproc_x(x_test)\n",
    "\n",
    "# Preprc the outputs\n",
    "y_train = preproc_y(y_train)\n",
    "y_test = preproc_y(y_test)"
   ]
  },
  {
   "cell_type": "code",
   "execution_count": 6,
   "metadata": {},
   "outputs": [
    {
     "name": "stdout",
     "output_type": "stream",
     "text": [
      "Model: \"model_1\"\n",
      "_________________________________________________________________\n",
      "Layer (type)                 Output Shape              Param #   \n",
      "=================================================================\n",
      "input_1 (InputLayer)         (None, 3072)              0         \n",
      "_________________________________________________________________\n",
      "hidden_layer1 (Dense)        (None, 4096)              12587008  \n",
      "_________________________________________________________________\n",
      "hidden_layer2 (Dense)        (None, 2048)              8390656   \n",
      "_________________________________________________________________\n",
      "hidden_layer3 (Dense)        (None, 1024)              2098176   \n",
      "_________________________________________________________________\n",
      "hidden_layer4 (Dense)        (None, 512)               524800    \n",
      "_________________________________________________________________\n",
      "hidden_layer5 (Dense)        (None, 256)               131328    \n",
      "_________________________________________________________________\n",
      "hidden_layer6 (Dense)        (None, 128)               32896     \n",
      "_________________________________________________________________\n",
      "hidden_layer7 (Dense)        (None, 64)                8256      \n",
      "_________________________________________________________________\n",
      "hidden_layer8 (Dense)        (None, 32)                2080      \n",
      "_________________________________________________________________\n",
      "output (Dense)               (None, 10)                330       \n",
      "=================================================================\n",
      "Total params: 23,775,530\n",
      "Trainable params: 23,775,530\n",
      "Non-trainable params: 0\n",
      "_________________________________________________________________\n"
     ]
    }
   ],
   "source": [
    "\"\"\"Code Here\n",
    "建立你的神經網路\n",
    "\"\"\"\n",
    "def build_mlp(input_shape, output_units=10, num_neurons=[4096, 2048, 1024, 512, 256, 128, 64, 32]):\n",
    "    input_layer = keras.layers.Input(input_shape)\n",
    "    \n",
    "    for i, n_units in enumerate(num_neurons):\n",
    "        if i == 0:\n",
    "            x = keras.layers.Dense(units=n_units, activation=\"relu\", name=\"hidden_layer\"+str(i+1))(input_layer)\n",
    "        else:\n",
    "            x = keras.layers.Dense(units=n_units, activation=\"relu\", name=\"hidden_layer\"+str(i+1))(x)\n",
    "    \n",
    "    out = keras.layers.Dense(units=output_units, activation=\"softmax\", name=\"output\")(x)\n",
    "    \n",
    "    model = keras.models.Model(inputs=[input_layer], outputs=[out])\n",
    "    return model\n",
    "\n",
    "model = build_mlp(input_shape=x_train.shape[1:])\n",
    "model.summary()"
   ]
  },
  {
   "cell_type": "code",
   "execution_count": 7,
   "metadata": {},
   "outputs": [],
   "source": [
    "## 超參數設定\n",
    "LEARNING_RATE = 0.001\n",
    "EPOCHS = 100\n",
    "BATCH_SIZE = 256"
   ]
  },
  {
   "cell_type": "code",
   "execution_count": 8,
   "metadata": {},
   "outputs": [],
   "source": [
    "optimizer = keras.optimizers.Adam(lr=LEARNING_RATE)\n",
    "model.compile(loss=\"categorical_crossentropy\", metrics=[\"accuracy\"], optimizer=optimizer)"
   ]
  },
  {
   "cell_type": "code",
   "execution_count": 9,
   "metadata": {},
   "outputs": [
    {
     "name": "stdout",
     "output_type": "stream",
     "text": [
      "Train on 50000 samples, validate on 10000 samples\n",
      "Epoch 1/100\n",
      "50000/50000 [==============================] - 158s 3ms/step - loss: 1.8387 - accuracy: 0.3336 - val_loss: 1.6471 - val_accuracy: 0.4042\n",
      "Epoch 2/100\n",
      "50000/50000 [==============================] - 160s 3ms/step - loss: 1.5591 - accuracy: 0.4495 - val_loss: 1.4780 - val_accuracy: 0.4817\n",
      "Epoch 3/100\n",
      "50000/50000 [==============================] - 152s 3ms/step - loss: 1.4218 - accuracy: 0.5016 - val_loss: 1.4241 - val_accuracy: 0.5011\n",
      "Epoch 4/100\n",
      "50000/50000 [==============================] - 160s 3ms/step - loss: 1.3161 - accuracy: 0.5411 - val_loss: 1.3703 - val_accuracy: 0.5259\n",
      "Epoch 5/100\n",
      "50000/50000 [==============================] - 149s 3ms/step - loss: 1.2188 - accuracy: 0.5735 - val_loss: 1.3845 - val_accuracy: 0.5157\n",
      "Epoch 6/100\n",
      "50000/50000 [==============================] - 147s 3ms/step - loss: 1.1310 - accuracy: 0.6003 - val_loss: 1.3636 - val_accuracy: 0.5385\n",
      "Epoch 7/100\n",
      "50000/50000 [==============================] - 159s 3ms/step - loss: 1.0423 - accuracy: 0.6346 - val_loss: 1.3915 - val_accuracy: 0.5385\n",
      "Epoch 8/100\n",
      "50000/50000 [==============================] - 146s 3ms/step - loss: 0.9612 - accuracy: 0.6590 - val_loss: 1.3834 - val_accuracy: 0.5474\n",
      "Epoch 9/100\n",
      "50000/50000 [==============================] - 158s 3ms/step - loss: 0.8715 - accuracy: 0.6927 - val_loss: 1.4390 - val_accuracy: 0.5448\n",
      "Epoch 10/100\n",
      "50000/50000 [==============================] - 154s 3ms/step - loss: 0.7848 - accuracy: 0.7237 - val_loss: 1.4856 - val_accuracy: 0.5495\n",
      "Epoch 11/100\n",
      "50000/50000 [==============================] - 160s 3ms/step - loss: 0.7115 - accuracy: 0.7502 - val_loss: 1.5735 - val_accuracy: 0.5434\n",
      "Epoch 12/100\n",
      "50000/50000 [==============================] - 151s 3ms/step - loss: 0.6280 - accuracy: 0.7814 - val_loss: 1.5992 - val_accuracy: 0.5527\n",
      "Epoch 13/100\n",
      "50000/50000 [==============================] - 146s 3ms/step - loss: 0.5589 - accuracy: 0.8029 - val_loss: 1.6921 - val_accuracy: 0.5541\n",
      "Epoch 14/100\n",
      "50000/50000 [==============================] - 158s 3ms/step - loss: 0.5002 - accuracy: 0.8268 - val_loss: 1.7857 - val_accuracy: 0.5488\n",
      "Epoch 15/100\n",
      "50000/50000 [==============================] - 148s 3ms/step - loss: 0.4470 - accuracy: 0.8432 - val_loss: 1.8035 - val_accuracy: 0.5542\n",
      "Epoch 16/100\n",
      "50000/50000 [==============================] - 145s 3ms/step - loss: 0.3907 - accuracy: 0.8643 - val_loss: 2.1103 - val_accuracy: 0.5489\n",
      "Epoch 17/100\n",
      "50000/50000 [==============================] - 150s 3ms/step - loss: 0.3515 - accuracy: 0.8779 - val_loss: 2.1816 - val_accuracy: 0.5513\n",
      "Epoch 18/100\n",
      "50000/50000 [==============================] - 158s 3ms/step - loss: 0.3168 - accuracy: 0.8925 - val_loss: 2.2726 - val_accuracy: 0.5422\n",
      "Epoch 19/100\n",
      "50000/50000 [==============================] - 166s 3ms/step - loss: 0.2923 - accuracy: 0.9009 - val_loss: 2.4034 - val_accuracy: 0.5444\n",
      "Epoch 20/100\n",
      "50000/50000 [==============================] - 169s 3ms/step - loss: 0.2652 - accuracy: 0.9088 - val_loss: 2.4504 - val_accuracy: 0.5487\n",
      "Epoch 21/100\n",
      "50000/50000 [==============================] - 157s 3ms/step - loss: 0.2435 - accuracy: 0.9173 - val_loss: 2.5373 - val_accuracy: 0.5484\n",
      "Epoch 22/100\n",
      "50000/50000 [==============================] - 156s 3ms/step - loss: 0.2253 - accuracy: 0.9240 - val_loss: 2.5406 - val_accuracy: 0.5486\n",
      "Epoch 23/100\n",
      "50000/50000 [==============================] - 157s 3ms/step - loss: 0.2091 - accuracy: 0.9303 - val_loss: 2.4510 - val_accuracy: 0.5423\n",
      "Epoch 24/100\n",
      "50000/50000 [==============================] - 155s 3ms/step - loss: 0.1959 - accuracy: 0.9352 - val_loss: 2.5341 - val_accuracy: 0.5444\n",
      "Epoch 25/100\n",
      "50000/50000 [==============================] - 157s 3ms/step - loss: 0.1647 - accuracy: 0.9450 - val_loss: 2.6557 - val_accuracy: 0.5514\n",
      "Epoch 26/100\n",
      "50000/50000 [==============================] - 174s 3ms/step - loss: 0.1631 - accuracy: 0.9456 - val_loss: 2.8032 - val_accuracy: 0.5544\n",
      "Epoch 27/100\n",
      "50000/50000 [==============================] - 163s 3ms/step - loss: 0.1612 - accuracy: 0.9477 - val_loss: 2.7743 - val_accuracy: 0.5515\n",
      "Epoch 28/100\n",
      "50000/50000 [==============================] - 175s 4ms/step - loss: 0.1518 - accuracy: 0.9512 - val_loss: 2.7350 - val_accuracy: 0.5501\n",
      "Epoch 29/100\n",
      "50000/50000 [==============================] - 224s 4ms/step - loss: 0.1355 - accuracy: 0.9561 - val_loss: 2.9501 - val_accuracy: 0.5556\n",
      "Epoch 30/100\n",
      "50000/50000 [==============================] - 242s 5ms/step - loss: 0.1234 - accuracy: 0.9604 - val_loss: 2.9270 - val_accuracy: 0.5562\n",
      "Epoch 31/100\n",
      "50000/50000 [==============================] - 244s 5ms/step - loss: 0.1342 - accuracy: 0.9567 - val_loss: 2.8418 - val_accuracy: 0.5439\n",
      "Epoch 32/100\n",
      "50000/50000 [==============================] - 200s 4ms/step - loss: 0.1354 - accuracy: 0.9559 - val_loss: 3.1224 - val_accuracy: 0.5585\n",
      "Epoch 33/100\n",
      "50000/50000 [==============================] - 198s 4ms/step - loss: 0.1196 - accuracy: 0.9617 - val_loss: 2.9736 - val_accuracy: 0.5521\n",
      "Epoch 34/100\n",
      "50000/50000 [==============================] - 159s 3ms/step - loss: 0.1234 - accuracy: 0.9605 - val_loss: 2.9031 - val_accuracy: 0.5504\n",
      "Epoch 35/100\n",
      "50000/50000 [==============================] - 150s 3ms/step - loss: 0.1067 - accuracy: 0.9669 - val_loss: 3.0499 - val_accuracy: 0.5498\n",
      "Epoch 36/100\n",
      "50000/50000 [==============================] - 150s 3ms/step - loss: 0.1013 - accuracy: 0.9675 - val_loss: 3.0155 - val_accuracy: 0.5551\n",
      "Epoch 37/100\n",
      "50000/50000 [==============================] - 147s 3ms/step - loss: 0.0978 - accuracy: 0.9677 - val_loss: 2.9958 - val_accuracy: 0.5533\n",
      "Epoch 38/100\n",
      "50000/50000 [==============================] - 148s 3ms/step - loss: 0.1075 - accuracy: 0.9660 - val_loss: 2.9893 - val_accuracy: 0.5501\n",
      "Epoch 39/100\n",
      "50000/50000 [==============================] - 146s 3ms/step - loss: 0.0857 - accuracy: 0.9730 - val_loss: 3.1128 - val_accuracy: 0.5642\n",
      "Epoch 40/100\n",
      "50000/50000 [==============================] - 147s 3ms/step - loss: 0.1018 - accuracy: 0.9690 - val_loss: 2.8827 - val_accuracy: 0.5519\n",
      "Epoch 41/100\n",
      "50000/50000 [==============================] - 146s 3ms/step - loss: 0.0925 - accuracy: 0.9716 - val_loss: 2.7362 - val_accuracy: 0.5510\n",
      "Epoch 42/100\n",
      "50000/50000 [==============================] - 151s 3ms/step - loss: 0.0925 - accuracy: 0.9710 - val_loss: 3.1539 - val_accuracy: 0.5508\n",
      "Epoch 43/100\n",
      "50000/50000 [==============================] - 149s 3ms/step - loss: 0.0871 - accuracy: 0.9718 - val_loss: 3.0847 - val_accuracy: 0.5520\n",
      "Epoch 44/100\n",
      "50000/50000 [==============================] - 148s 3ms/step - loss: 0.0910 - accuracy: 0.9719 - val_loss: 2.9841 - val_accuracy: 0.5503\n",
      "Epoch 45/100\n",
      "50000/50000 [==============================] - 147s 3ms/step - loss: 0.0794 - accuracy: 0.9754 - val_loss: 2.9356 - val_accuracy: 0.5491\n",
      "Epoch 46/100\n",
      "50000/50000 [==============================] - 150s 3ms/step - loss: 0.0746 - accuracy: 0.9768 - val_loss: 3.2557 - val_accuracy: 0.5460\n",
      "Epoch 47/100\n",
      "50000/50000 [==============================] - 154s 3ms/step - loss: 0.0832 - accuracy: 0.9740 - val_loss: 2.9701 - val_accuracy: 0.5549\n",
      "Epoch 48/100\n",
      "50000/50000 [==============================] - 154s 3ms/step - loss: 0.0866 - accuracy: 0.9731 - val_loss: 2.9637 - val_accuracy: 0.5501\n",
      "Epoch 49/100\n",
      "50000/50000 [==============================] - 146s 3ms/step - loss: 0.0738 - accuracy: 0.9777 - val_loss: 2.9117 - val_accuracy: 0.5496\n",
      "Epoch 50/100\n",
      "50000/50000 [==============================] - 147s 3ms/step - loss: 0.0765 - accuracy: 0.9767 - val_loss: 3.0754 - val_accuracy: 0.5537\n",
      "Epoch 51/100\n",
      "50000/50000 [==============================] - 146s 3ms/step - loss: 0.0646 - accuracy: 0.9801 - val_loss: 3.1448 - val_accuracy: 0.5534\n",
      "Epoch 52/100\n",
      "50000/50000 [==============================] - 151s 3ms/step - loss: 0.0727 - accuracy: 0.9781 - val_loss: 3.1329 - val_accuracy: 0.5514\n",
      "Epoch 53/100\n",
      "50000/50000 [==============================] - 151s 3ms/step - loss: 0.0709 - accuracy: 0.9782 - val_loss: 3.3245 - val_accuracy: 0.5513\n",
      "Epoch 54/100\n",
      "50000/50000 [==============================] - 147s 3ms/step - loss: 0.0767 - accuracy: 0.9758 - val_loss: 3.3629 - val_accuracy: 0.5512\n",
      "Epoch 55/100\n"
     ]
    },
    {
     "name": "stdout",
     "output_type": "stream",
     "text": [
      "50000/50000 [==============================] - 146s 3ms/step - loss: 0.0756 - accuracy: 0.9782 - val_loss: 3.2008 - val_accuracy: 0.5466\n",
      "Epoch 56/100\n",
      "50000/50000 [==============================] - 145s 3ms/step - loss: 0.0739 - accuracy: 0.9775 - val_loss: 3.1473 - val_accuracy: 0.5533\n",
      "Epoch 57/100\n",
      "50000/50000 [==============================] - 155s 3ms/step - loss: 0.0732 - accuracy: 0.9774 - val_loss: 3.1654 - val_accuracy: 0.5544\n",
      "Epoch 58/100\n",
      "50000/50000 [==============================] - 165s 3ms/step - loss: 0.0632 - accuracy: 0.9811 - val_loss: 3.1391 - val_accuracy: 0.5527\n",
      "Epoch 59/100\n",
      "50000/50000 [==============================] - 159s 3ms/step - loss: 0.0635 - accuracy: 0.9817 - val_loss: 3.3396 - val_accuracy: 0.5546\n",
      "Epoch 60/100\n",
      "50000/50000 [==============================] - 149s 3ms/step - loss: 0.0565 - accuracy: 0.9835 - val_loss: 3.5378 - val_accuracy: 0.5512\n",
      "Epoch 61/100\n",
      "50000/50000 [==============================] - 139s 3ms/step - loss: 0.0764 - accuracy: 0.9787 - val_loss: 3.3012 - val_accuracy: 0.5489\n",
      "Epoch 62/100\n",
      "50000/50000 [==============================] - 141s 3ms/step - loss: 0.0574 - accuracy: 0.9827 - val_loss: 3.5153 - val_accuracy: 0.5519\n",
      "Epoch 63/100\n",
      "50000/50000 [==============================] - 144s 3ms/step - loss: 0.0626 - accuracy: 0.9816 - val_loss: 3.2035 - val_accuracy: 0.5479\n",
      "Epoch 64/100\n",
      "50000/50000 [==============================] - 140s 3ms/step - loss: 0.0795 - accuracy: 0.9765 - val_loss: 3.2134 - val_accuracy: 0.5513\n",
      "Epoch 65/100\n",
      "50000/50000 [==============================] - 139s 3ms/step - loss: 0.0663 - accuracy: 0.9802 - val_loss: 3.2301 - val_accuracy: 0.5520\n",
      "Epoch 66/100\n",
      "50000/50000 [==============================] - 139s 3ms/step - loss: 0.0534 - accuracy: 0.9845 - val_loss: 3.4045 - val_accuracy: 0.5523\n",
      "Epoch 67/100\n",
      "50000/50000 [==============================] - 138s 3ms/step - loss: 0.0606 - accuracy: 0.9822 - val_loss: 3.4094 - val_accuracy: 0.5560\n",
      "Epoch 68/100\n",
      "50000/50000 [==============================] - 139s 3ms/step - loss: 0.0616 - accuracy: 0.9823 - val_loss: 3.0114 - val_accuracy: 0.5490\n",
      "Epoch 69/100\n",
      "50000/50000 [==============================] - 138s 3ms/step - loss: 0.0586 - accuracy: 0.9826 - val_loss: 3.7794 - val_accuracy: 0.5515\n",
      "Epoch 70/100\n",
      "50000/50000 [==============================] - 138s 3ms/step - loss: 0.0657 - accuracy: 0.9806 - val_loss: 3.2127 - val_accuracy: 0.5551\n",
      "Epoch 71/100\n",
      "50000/50000 [==============================] - 154s 3ms/step - loss: 0.0497 - accuracy: 0.9842 - val_loss: 3.5579 - val_accuracy: 0.5573\n",
      "Epoch 72/100\n",
      "50000/50000 [==============================] - 161s 3ms/step - loss: 0.0709 - accuracy: 0.9805 - val_loss: 3.1446 - val_accuracy: 0.5498\n",
      "Epoch 73/100\n",
      "50000/50000 [==============================] - 159s 3ms/step - loss: 0.0535 - accuracy: 0.9843 - val_loss: 3.2126 - val_accuracy: 0.5497\n",
      "Epoch 74/100\n",
      "50000/50000 [==============================] - 163s 3ms/step - loss: 0.0483 - accuracy: 0.9861 - val_loss: 3.2552 - val_accuracy: 0.5429\n",
      "Epoch 75/100\n",
      "50000/50000 [==============================] - 172s 3ms/step - loss: 0.0472 - accuracy: 0.9858 - val_loss: 3.4344 - val_accuracy: 0.5518\n",
      "Epoch 76/100\n",
      "50000/50000 [==============================] - 167s 3ms/step - loss: 0.0516 - accuracy: 0.9852 - val_loss: 3.2260 - val_accuracy: 0.5542\n",
      "Epoch 77/100\n",
      "50000/50000 [==============================] - 153s 3ms/step - loss: 0.0476 - accuracy: 0.9862 - val_loss: 3.3868 - val_accuracy: 0.5498\n",
      "Epoch 78/100\n",
      "50000/50000 [==============================] - 169s 3ms/step - loss: 0.0435 - accuracy: 0.9867 - val_loss: 3.5131 - val_accuracy: 0.5556\n",
      "Epoch 79/100\n",
      "50000/50000 [==============================] - 150s 3ms/step - loss: 0.0508 - accuracy: 0.9854 - val_loss: 3.5574 - val_accuracy: 0.5601\n",
      "Epoch 80/100\n",
      "50000/50000 [==============================] - 143s 3ms/step - loss: 0.0574 - accuracy: 0.9836 - val_loss: 3.3708 - val_accuracy: 0.5498\n",
      "Epoch 81/100\n",
      "50000/50000 [==============================] - 150s 3ms/step - loss: 0.0563 - accuracy: 0.9838 - val_loss: 3.3179 - val_accuracy: 0.5583\n",
      "Epoch 82/100\n",
      "50000/50000 [==============================] - 148s 3ms/step - loss: 0.0449 - accuracy: 0.9866 - val_loss: 3.4808 - val_accuracy: 0.5572\n",
      "Epoch 83/100\n",
      "50000/50000 [==============================] - 155s 3ms/step - loss: 0.0468 - accuracy: 0.9861 - val_loss: 3.3548 - val_accuracy: 0.5532\n",
      "Epoch 84/100\n",
      "50000/50000 [==============================] - 157s 3ms/step - loss: 0.0552 - accuracy: 0.9840 - val_loss: 3.2289 - val_accuracy: 0.5608\n",
      "Epoch 85/100\n",
      "50000/50000 [==============================] - 163s 3ms/step - loss: 0.0547 - accuracy: 0.9843 - val_loss: 3.2569 - val_accuracy: 0.5565\n",
      "Epoch 86/100\n",
      "50000/50000 [==============================] - 166s 3ms/step - loss: 0.0471 - accuracy: 0.9867 - val_loss: 3.6902 - val_accuracy: 0.5518\n",
      "Epoch 87/100\n",
      "50000/50000 [==============================] - 172s 3ms/step - loss: 0.0513 - accuracy: 0.9848 - val_loss: 3.4719 - val_accuracy: 0.5569\n",
      "Epoch 88/100\n",
      "50000/50000 [==============================] - 164s 3ms/step - loss: 0.0562 - accuracy: 0.9860 - val_loss: 2.8840 - val_accuracy: 0.5483\n",
      "Epoch 89/100\n",
      "50000/50000 [==============================] - 159s 3ms/step - loss: 0.0678 - accuracy: 0.9811 - val_loss: 3.5087 - val_accuracy: 0.5548\n",
      "Epoch 90/100\n",
      "50000/50000 [==============================] - 159s 3ms/step - loss: 0.0360 - accuracy: 0.9898 - val_loss: 3.3563 - val_accuracy: 0.5562\n",
      "Epoch 91/100\n",
      "50000/50000 [==============================] - 158s 3ms/step - loss: 0.0432 - accuracy: 0.9878 - val_loss: 3.4107 - val_accuracy: 0.5478\n",
      "Epoch 92/100\n",
      "50000/50000 [==============================] - 155s 3ms/step - loss: 0.0447 - accuracy: 0.9880 - val_loss: 3.2747 - val_accuracy: 0.5460\n",
      "Epoch 93/100\n",
      "50000/50000 [==============================] - 159s 3ms/step - loss: 0.0538 - accuracy: 0.9844 - val_loss: 3.4782 - val_accuracy: 0.5571\n",
      "Epoch 94/100\n",
      "50000/50000 [==============================] - 147s 3ms/step - loss: 0.0352 - accuracy: 0.9900 - val_loss: 3.4735 - val_accuracy: 0.5571\n",
      "Epoch 95/100\n",
      "50000/50000 [==============================] - 147s 3ms/step - loss: 0.0390 - accuracy: 0.9881 - val_loss: 3.5850 - val_accuracy: 0.5585\n",
      "Epoch 96/100\n",
      "50000/50000 [==============================] - 146s 3ms/step - loss: 0.0508 - accuracy: 0.9861 - val_loss: 3.5729 - val_accuracy: 0.5580\n",
      "Epoch 97/100\n",
      "50000/50000 [==============================] - 151s 3ms/step - loss: 0.0379 - accuracy: 0.9897 - val_loss: 3.4388 - val_accuracy: 0.5548\n",
      "Epoch 98/100\n",
      "50000/50000 [==============================] - 160s 3ms/step - loss: 0.0503 - accuracy: 0.9868 - val_loss: 3.3921 - val_accuracy: 0.5470\n",
      "Epoch 99/100\n",
      "50000/50000 [==============================] - 158s 3ms/step - loss: 0.0357 - accuracy: 0.9904 - val_loss: 3.4822 - val_accuracy: 0.5574\n",
      "Epoch 100/100\n",
      "50000/50000 [==============================] - 167s 3ms/step - loss: 0.0393 - accuracy: 0.9888 - val_loss: 3.5130 - val_accuracy: 0.5572\n"
     ]
    },
    {
     "data": {
      "text/plain": [
       "<keras.callbacks.callbacks.History at 0x27e01d6d0b8>"
      ]
     },
     "execution_count": 9,
     "metadata": {},
     "output_type": "execute_result"
    }
   ],
   "source": [
    "model.fit(x_train, y_train, \n",
    "          epochs=EPOCHS, \n",
    "          batch_size=BATCH_SIZE, \n",
    "          validation_data=(x_test, y_test), \n",
    "          shuffle=True)"
   ]
  },
  {
   "cell_type": "code",
   "execution_count": 11,
   "metadata": {},
   "outputs": [
    {
     "data": {
      "image/png": "[encoded data removed]",
      "text/plain": [
       "<Figure size 432x288 with 1 Axes>"
      ]
     },
     "metadata": {
      "needs_background": "light"
     },
     "output_type": "display_data"
    },
    {
     "data": {
      "image/png": "[encoded data removed]",
      "text/plain": [
       "<Figure size 432x288 with 1 Axes>"
      ]
     },
     "metadata": {
      "needs_background": "light"
     },
     "output_type": "display_data"
    }
   ],
   "source": [
    "import matplotlib.pyplot as plt\n",
    "\n",
    "\n",
    "train_loss = model.history.history[\"loss\"]\n",
    "valid_loss = model.history.history[\"val_loss\"]\n",
    "\n",
    "train_acc = model.history.history[\"accuracy\"]\n",
    "valid_acc = model.history.history[\"val_accuracy\"]\n",
    "\n",
    "plt.plot(range(len(train_loss)), train_loss, label=\"train loss\")\n",
    "plt.plot(range(len(valid_loss)), valid_loss, label=\"valid loss\")\n",
    "plt.legend()\n",
    "plt.title(\"Loss\")\n",
    "plt.show()\n",
    "\n",
    "plt.plot(range(len(train_acc)), train_acc, label=\"train accuracy\")\n",
    "plt.plot(range(len(valid_acc)), valid_acc, label=\"valid accuracy\")\n",
    "plt.legend()\n",
    "plt.title(\"Accuracy\")\n",
    "plt.show()"
   ]
  },
  {
   "cell_type": "code",
   "execution_count": null,
   "metadata": {},
   "outputs": [],
   "source": []
  }
 ],
 "metadata": {
  "kernelspec": {
   "display_name": "Python 3",
   "language": "python",
   "name": "python3"
  },
  "language_info": {
   "codemirror_mode": {
    "name": "ipython",
    "version": 3
   },
   "file_extension": ".py",
   "mimetype": "text/x-python",
   "name": "python",
   "nbconvert_exporter": "python",
   "pygments_lexer": "ipython3",
   "version": "3.7.3"
  }
 },
 "nbformat": 4,
 "nbformat_minor": 2
}
