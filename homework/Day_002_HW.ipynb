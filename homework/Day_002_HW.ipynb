{
 "cells": [
  {
   "cell_type": "markdown",
   "metadata": {},
   "source": [
    "## [作業目標]\n",
    "了解機器學習適合應用的領域與範疇。"
   ]
  },
  {
   "cell_type": "markdown",
   "metadata": {},
   "source": [
    "## [作業重點]\n",
    "透過瞭解機器學習的運作方式，找出非常適用機器學習應用的領域及其原因"
   ]
  },
  {
   "cell_type": "markdown",
   "metadata": {},
   "source": [
    "## 作業\n",
    "請找出一個你認為機器學習可以發光發熱的領域並闡述原因? \n",
    "\n",
    "機器學習可應用在生物認證系統，例如：人臉辨識、指紋辨識、聲紋辨識等等，因為生物認證的複雜度較高且多變，程式不容易透過規則設定的方式，達到高準確率的結果，即便可以也大大增加了程式的複雜度。且生物認證皆採用監督式的方式來做機器學習，因此在實務上也可以得到較高的準確率。除此之外，未來相當多的應用也會使用到生物認證，例如：門禁系統、手機解鎖、App解鎖、行動支付等等，這些應用將大量使用生物認證，以至於機器學習的使用率可大幅提升。"
   ]
  }
 ],
 "metadata": {
  "kernelspec": {
   "display_name": "Python 3",
   "language": "python",
   "name": "python3"
  },
  "language_info": {
   "codemirror_mode": {
    "name": "ipython",
    "version": 3
   },
   "file_extension": ".py",
   "mimetype": "text/x-python",
   "name": "python",
   "nbconvert_exporter": "python",
   "pygments_lexer": "ipython3",
   "version": "3.7.3"
  }
 },
 "nbformat": 4,
 "nbformat_minor": 2
}
