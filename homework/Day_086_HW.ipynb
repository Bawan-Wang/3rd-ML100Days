{
 "cells": [
  {
   "cell_type": "markdown",
   "metadata": {},
   "source": [
    "## Work\n",
    "1. 試比較 save_best_only 與否的差異\n",
    "2. 請僅存入將 save_weights_only 設定為 True, 並嘗試 reset ipynb 並將模型與權重重新建回並預測 x_test"
   ]
  },
  {
   "cell_type": "code",
   "execution_count": 1,
   "metadata": {},
   "outputs": [
    {
     "name": "stderr",
     "output_type": "stream",
     "text": [
      "Using TensorFlow backend.\n"
     ]
    }
   ],
   "source": [
    "import os\n",
    "import keras\n",
    "\n",
    "# Disable GPU\n",
    "os.environ[\"CUDA_VISIBLE_DEVICES\"] = \"\""
   ]
  },
  {
   "cell_type": "code",
   "execution_count": 2,
   "metadata": {},
   "outputs": [],
   "source": [
    "train, test = keras.datasets.cifar10.load_data()"
   ]
  },
  {
   "cell_type": "code",
   "execution_count": 3,
   "metadata": {},
   "outputs": [],
   "source": [
    "## 資料前處理\n",
    "def preproc_x(x, flatten=True):\n",
    "    x = x / 255.\n",
    "    if flatten:\n",
    "        x = x.reshape((len(x), -1))\n",
    "    return x\n",
    "\n",
    "def preproc_y(y, num_classes=10):\n",
    "    if y.shape[-1] == 1:\n",
    "        y = keras.utils.to_categorical(y, num_classes)\n",
    "    return y    "
   ]
  },
  {
   "cell_type": "code",
   "execution_count": 4,
   "metadata": {},
   "outputs": [],
   "source": [
    "x_train, y_train = train\n",
    "x_test, y_test = test\n",
    "\n",
    "# Preproc the inputs\n",
    "x_train = preproc_x(x_train)\n",
    "x_test = preproc_x(x_test)\n",
    "\n",
    "# Preprc the outputs\n",
    "y_train = preproc_y(y_train)\n",
    "y_test = preproc_y(y_test)"
   ]
  },
  {
   "cell_type": "code",
   "execution_count": 5,
   "metadata": {},
   "outputs": [],
   "source": [
    "from keras.layers import BatchNormalization\n",
    "\n",
    "\"\"\"\n",
    "建立神經網路，並加入 BN layer\n",
    "\"\"\"\n",
    "def build_mlp(input_shape, output_units=10, num_neurons=[512, 256, 128]):\n",
    "    input_layer = keras.layers.Input(input_shape)\n",
    "    \n",
    "    for i, n_units in enumerate(num_neurons):\n",
    "        if i == 0:\n",
    "            x = keras.layers.Dense(units=n_units, \n",
    "                                   activation=\"relu\", \n",
    "                                   name=\"hidden_layer\"+str(i+1))(input_layer)\n",
    "            x = BatchNormalization()(x)\n",
    "        else:\n",
    "            x = keras.layers.Dense(units=n_units, \n",
    "                                   activation=\"relu\", \n",
    "                                   name=\"hidden_layer\"+str(i+1))(x)\n",
    "            x = BatchNormalization()(x)\n",
    "    \n",
    "    out = keras.layers.Dense(units=output_units, activation=\"softmax\", name=\"output\")(x)\n",
    "    \n",
    "    model = keras.models.Model(inputs=[input_layer], outputs=[out])\n",
    "    return model"
   ]
  },
  {
   "cell_type": "code",
   "execution_count": 6,
   "metadata": {},
   "outputs": [],
   "source": [
    "\"\"\"Code Here\n",
    "設定超參數\n",
    "\"\"\"\n",
    "LEARNING_RATE = 1e-3\n",
    "EPOCHS = 50\n",
    "BATCH_SIZE = 1024\n",
    "MOMENTUM = 0.95"
   ]
  },
  {
   "cell_type": "code",
   "execution_count": 7,
   "metadata": {},
   "outputs": [
    {
     "name": "stdout",
     "output_type": "stream",
     "text": [
      "Model: \"model_1\"\n",
      "_________________________________________________________________\n",
      "Layer (type)                 Output Shape              Param #   \n",
      "=================================================================\n",
      "input_1 (InputLayer)         (None, 3072)              0         \n",
      "_________________________________________________________________\n",
      "hidden_layer1 (Dense)        (None, 512)               1573376   \n",
      "_________________________________________________________________\n",
      "batch_normalization_1 (Batch (None, 512)               2048      \n",
      "_________________________________________________________________\n",
      "hidden_layer2 (Dense)        (None, 256)               131328    \n",
      "_________________________________________________________________\n",
      "batch_normalization_2 (Batch (None, 256)               1024      \n",
      "_________________________________________________________________\n",
      "hidden_layer3 (Dense)        (None, 128)               32896     \n",
      "_________________________________________________________________\n",
      "batch_normalization_3 (Batch (None, 128)               512       \n",
      "_________________________________________________________________\n",
      "output (Dense)               (None, 10)                1290      \n",
      "=================================================================\n",
      "Total params: 1,742,474\n",
      "Trainable params: 1,740,682\n",
      "Non-trainable params: 1,792\n",
      "_________________________________________________________________\n",
      "Train on 50000 samples, validate on 10000 samples\n",
      "Epoch 1/50\n",
      "50000/50000 [==============================] - 9s 174us/step - loss: 2.2195 - accuracy: 0.2704 - val_loss: 2.1338 - val_accuracy: 0.1846\n",
      "Epoch 2/50\n",
      "50000/50000 [==============================] - 8s 160us/step - loss: 1.7432 - accuracy: 0.3937 - val_loss: 1.9731 - val_accuracy: 0.2989\n",
      "Epoch 3/50\n",
      "50000/50000 [==============================] - 8s 159us/step - loss: 1.6165 - accuracy: 0.4363 - val_loss: 1.8157 - val_accuracy: 0.3780\n",
      "Epoch 4/50\n",
      "50000/50000 [==============================] - 8s 161us/step - loss: 1.5427 - accuracy: 0.4612 - val_loss: 1.7057 - val_accuracy: 0.4108\n",
      "Epoch 5/50\n",
      "50000/50000 [==============================] - 8s 158us/step - loss: 1.4894 - accuracy: 0.4795 - val_loss: 1.6464 - val_accuracy: 0.4293\n",
      "Epoch 6/50\n",
      "50000/50000 [==============================] - 8s 163us/step - loss: 1.4449 - accuracy: 0.4956 - val_loss: 1.5917 - val_accuracy: 0.4423\n",
      "Epoch 7/50\n",
      "50000/50000 [==============================] - 8s 159us/step - loss: 1.4040 - accuracy: 0.5106 - val_loss: 1.5544 - val_accuracy: 0.4463\n",
      "Epoch 8/50\n",
      "50000/50000 [==============================] - 8s 158us/step - loss: 1.3703 - accuracy: 0.5220 - val_loss: 1.5304 - val_accuracy: 0.4530\n",
      "Epoch 9/50\n",
      "50000/50000 [==============================] - 8s 158us/step - loss: 1.3378 - accuracy: 0.5357 - val_loss: 1.5313 - val_accuracy: 0.4574\n",
      "Epoch 10/50\n",
      "50000/50000 [==============================] - 8s 159us/step - loss: 1.3060 - accuracy: 0.5478 - val_loss: 1.4954 - val_accuracy: 0.4718\n",
      "Epoch 11/50\n",
      "50000/50000 [==============================] - 8s 162us/step - loss: 1.2780 - accuracy: 0.5567 - val_loss: 1.4899 - val_accuracy: 0.4768\n",
      "Epoch 12/50\n",
      "50000/50000 [==============================] - 8s 164us/step - loss: 1.2488 - accuracy: 0.5673 - val_loss: 1.4778 - val_accuracy: 0.4761\n",
      "Epoch 13/50\n",
      "50000/50000 [==============================] - 8s 161us/step - loss: 1.2234 - accuracy: 0.5773 - val_loss: 1.4685 - val_accuracy: 0.4794\n",
      "Epoch 14/50\n",
      "50000/50000 [==============================] - 8s 159us/step - loss: 1.1997 - accuracy: 0.5850 - val_loss: 1.4688 - val_accuracy: 0.4838\n",
      "Epoch 15/50\n",
      "50000/50000 [==============================] - 8s 157us/step - loss: 1.1743 - accuracy: 0.5954 - val_loss: 1.4725 - val_accuracy: 0.4833\n",
      "Epoch 16/50\n",
      "50000/50000 [==============================] - 8s 157us/step - loss: 1.1490 - accuracy: 0.6059 - val_loss: 1.4672 - val_accuracy: 0.4864\n",
      "Epoch 17/50\n",
      "50000/50000 [==============================] - 8s 158us/step - loss: 1.1263 - accuracy: 0.6152 - val_loss: 1.4669 - val_accuracy: 0.4839\n",
      "Epoch 18/50\n",
      "50000/50000 [==============================] - 8s 158us/step - loss: 1.1052 - accuracy: 0.6214 - val_loss: 1.4671 - val_accuracy: 0.4865\n",
      "Epoch 19/50\n",
      "50000/50000 [==============================] - 8s 158us/step - loss: 1.0832 - accuracy: 0.6325 - val_loss: 1.4628 - val_accuracy: 0.4892\n",
      "Epoch 20/50\n",
      "50000/50000 [==============================] - 8s 163us/step - loss: 1.0601 - accuracy: 0.6397 - val_loss: 1.4708 - val_accuracy: 0.4865\n",
      "Epoch 21/50\n",
      "50000/50000 [==============================] - 8s 160us/step - loss: 1.0388 - accuracy: 0.6481 - val_loss: 1.4613 - val_accuracy: 0.4889\n",
      "Epoch 22/50\n",
      "50000/50000 [==============================] - 8s 159us/step - loss: 1.0164 - accuracy: 0.6570 - val_loss: 1.4632 - val_accuracy: 0.4920\n",
      "Epoch 23/50\n",
      "50000/50000 [==============================] - 8s 160us/step - loss: 0.9938 - accuracy: 0.6660 - val_loss: 1.4670 - val_accuracy: 0.4897\n",
      "Epoch 24/50\n",
      "50000/50000 [==============================] - 8s 159us/step - loss: 0.9728 - accuracy: 0.6742 - val_loss: 1.4806 - val_accuracy: 0.4877\n",
      "Epoch 25/50\n",
      "50000/50000 [==============================] - 8s 159us/step - loss: 0.9533 - accuracy: 0.6813 - val_loss: 1.4708 - val_accuracy: 0.4899\n",
      "Epoch 26/50\n",
      "50000/50000 [==============================] - 8s 160us/step - loss: 0.9324 - accuracy: 0.6889 - val_loss: 1.4737 - val_accuracy: 0.4935\n",
      "Epoch 27/50\n",
      "50000/50000 [==============================] - 8s 162us/step - loss: 0.9117 - accuracy: 0.6983 - val_loss: 1.4813 - val_accuracy: 0.4942\n",
      "Epoch 28/50\n",
      "50000/50000 [==============================] - 8s 158us/step - loss: 0.8911 - accuracy: 0.7040 - val_loss: 1.4865 - val_accuracy: 0.4956\n",
      "Epoch 29/50\n",
      "50000/50000 [==============================] - 8s 158us/step - loss: 0.8717 - accuracy: 0.7112 - val_loss: 1.4856 - val_accuracy: 0.4923\n",
      "Epoch 30/50\n",
      "50000/50000 [==============================] - 8s 157us/step - loss: 0.8485 - accuracy: 0.7209 - val_loss: 1.4924 - val_accuracy: 0.4955\n",
      "Epoch 31/50\n",
      "50000/50000 [==============================] - 8s 157us/step - loss: 0.8296 - accuracy: 0.7284 - val_loss: 1.4993 - val_accuracy: 0.4978\n",
      "Epoch 32/50\n",
      "50000/50000 [==============================] - 8s 157us/step - loss: 0.8115 - accuracy: 0.7376 - val_loss: 1.5068 - val_accuracy: 0.4962\n",
      "Epoch 33/50\n",
      "50000/50000 [==============================] - 8s 160us/step - loss: 0.7931 - accuracy: 0.7421 - val_loss: 1.5190 - val_accuracy: 0.4965\n",
      "Epoch 34/50\n",
      "50000/50000 [==============================] - 8s 158us/step - loss: 0.7728 - accuracy: 0.7516 - val_loss: 1.5199 - val_accuracy: 0.4937\n",
      "Epoch 35/50\n",
      "50000/50000 [==============================] - 8s 163us/step - loss: 0.7521 - accuracy: 0.7602 - val_loss: 1.5166 - val_accuracy: 0.4952\n",
      "Epoch 36/50\n",
      "50000/50000 [==============================] - 8s 161us/step - loss: 0.7343 - accuracy: 0.7665 - val_loss: 1.5325 - val_accuracy: 0.5009\n",
      "Epoch 37/50\n",
      "50000/50000 [==============================] - 8s 159us/step - loss: 0.7160 - accuracy: 0.7748 - val_loss: 1.5412 - val_accuracy: 0.4930\n",
      "Epoch 38/50\n",
      "50000/50000 [==============================] - 8s 158us/step - loss: 0.6959 - accuracy: 0.7810 - val_loss: 1.5830 - val_accuracy: 0.4864\n",
      "Epoch 39/50\n",
      "50000/50000 [==============================] - 8s 157us/step - loss: 0.6775 - accuracy: 0.7877 - val_loss: 1.5644 - val_accuracy: 0.4970\n",
      "Epoch 40/50\n",
      "50000/50000 [==============================] - 8s 159us/step - loss: 0.6585 - accuracy: 0.7965 - val_loss: 1.5740 - val_accuracy: 0.4938\n",
      "Epoch 41/50\n",
      "50000/50000 [==============================] - 8s 157us/step - loss: 0.6417 - accuracy: 0.8029 - val_loss: 1.5860 - val_accuracy: 0.4879\n",
      "Epoch 42/50\n",
      "50000/50000 [==============================] - 8s 157us/step - loss: 0.6225 - accuracy: 0.8105 - val_loss: 1.5966 - val_accuracy: 0.4934\n",
      "Epoch 43/50\n",
      "50000/50000 [==============================] - 8s 162us/step - loss: 0.6048 - accuracy: 0.8172 - val_loss: 1.6097 - val_accuracy: 0.4904\n",
      "Epoch 44/50\n",
      "50000/50000 [==============================] - 8s 158us/step - loss: 0.5878 - accuracy: 0.8226 - val_loss: 1.6147 - val_accuracy: 0.4880\n",
      "Epoch 45/50\n",
      "50000/50000 [==============================] - 8s 157us/step - loss: 0.5707 - accuracy: 0.8324 - val_loss: 1.6530 - val_accuracy: 0.4826\n",
      "Epoch 46/50\n"
     ]
    },
    {
     "name": "stdout",
     "output_type": "stream",
     "text": [
      "50000/50000 [==============================] - 8s 156us/step - loss: 0.5520 - accuracy: 0.8378 - val_loss: 1.6453 - val_accuracy: 0.4905\n",
      "Epoch 47/50\n",
      "50000/50000 [==============================] - 8s 158us/step - loss: 0.5352 - accuracy: 0.8436 - val_loss: 1.6763 - val_accuracy: 0.4815\n",
      "Epoch 48/50\n",
      "50000/50000 [==============================] - 8s 159us/step - loss: 0.5228 - accuracy: 0.8493 - val_loss: 1.6708 - val_accuracy: 0.4857\n",
      "Epoch 49/50\n",
      "50000/50000 [==============================] - 8s 159us/step - loss: 0.5035 - accuracy: 0.8563 - val_loss: 1.6813 - val_accuracy: 0.4940\n",
      "Epoch 50/50\n",
      "50000/50000 [==============================] - 8s 161us/step - loss: 0.4863 - accuracy: 0.8642 - val_loss: 1.6957 - val_accuracy: 0.4903\n",
      "10000/10000 [==============================] - 1s 143us/step\n"
     ]
    }
   ],
   "source": [
    "# 載入 Callbacks\n",
    "\"\"\"Code Here\n",
    "設定 callbacks: model checkpoint\n",
    "\"\"\"\n",
    "from keras.callbacks import ModelCheckpoint\n",
    "\n",
    "model_ckpt = ModelCheckpoint(filepath=\"./tmp.h5\", \n",
    "                             monitor=\"val_loss\", \n",
    "                             save_best_only=False)\n",
    "\n",
    "results = {}\n",
    "\"\"\"Code Here\n",
    "撰寫你的訓練流程並將結果用 dictionary 紀錄\n",
    "\"\"\"\n",
    "model = build_mlp(input_shape=x_train.shape[1:])\n",
    "model.summary()\n",
    "optimizer = keras.optimizers.SGD(lr=LEARNING_RATE, nesterov=True, momentum=MOMENTUM)\n",
    "model.compile(loss=\"categorical_crossentropy\", metrics=[\"accuracy\"], optimizer=optimizer)\n",
    "\n",
    "model.fit(x_train, y_train, \n",
    "          epochs=EPOCHS, \n",
    "          batch_size=BATCH_SIZE, \n",
    "          validation_data=(x_test, y_test), \n",
    "          shuffle=True,\n",
    "          callbacks=[model_ckpt]\n",
    "         )\n",
    "\n",
    "# Collect results\n",
    "train_loss = model.history.history[\"loss\"]\n",
    "valid_loss = model.history.history[\"val_loss\"]\n",
    "train_acc = model.history.history[\"accuracy\"]\n",
    "valid_acc = model.history.history[\"val_accuracy\"]\n",
    "\n",
    "# Load back\n",
    "model = keras.models.load_model(\"./tmp.h5\")\n",
    "loss_loadback, acc_loadback = model.evaluate(x_test, y_test)"
   ]
  },
  {
   "cell_type": "code",
   "execution_count": 8,
   "metadata": {
    "scrolled": true
   },
   "outputs": [
    {
     "data": {
      "image/png": "[encoded data removed]",
      "text/plain": [
       "<Figure size 432x288 with 1 Axes>"
      ]
     },
     "metadata": {
      "needs_background": "light"
     },
     "output_type": "display_data"
    },
    {
     "data": {
      "image/png": "[encoded data removed]",
      "text/plain": [
       "<Figure size 432x288 with 1 Axes>"
      ]
     },
     "metadata": {
      "needs_background": "light"
     },
     "output_type": "display_data"
    }
   ],
   "source": [
    "import matplotlib.pyplot as plt\n",
    "%matplotlib inline\n",
    "\"\"\"Code Here\n",
    "將結果繪出\n",
    "\"\"\"\n",
    "plt.plot(range(len(train_loss)), train_loss, label=\"train loss\")\n",
    "plt.plot(range(len(valid_loss)), valid_loss, label=\"valid loss\")\n",
    "plt.hlines(y=loss_loadback, xmin=0, xmax=len(train_loss), colors='r', linestyles='--')\n",
    "plt.legend()\n",
    "plt.title(\"Loss\")\n",
    "plt.show()\n",
    "\n",
    "plt.plot(range(len(train_acc)), train_acc, label=\"train accuracy\")\n",
    "plt.plot(range(len(valid_acc)), valid_acc, label=\"valid accuracy\")\n",
    "plt.hlines(y=acc_loadback, xmin=0, xmax=len(train_loss), colors='r', linestyles='--')\n",
    "plt.legend()\n",
    "plt.title(\"Accuracy\")\n",
    "plt.show()"
   ]
  },
  {
   "cell_type": "code",
   "execution_count": null,
   "metadata": {},
   "outputs": [],
   "source": []
  }
 ],
 "metadata": {
  "kernelspec": {
   "display_name": "Python 3",
   "language": "python",
   "name": "python3"
  },
  "language_info": {
   "codemirror_mode": {
    "name": "ipython",
    "version": 3
   },
   "file_extension": ".py",
   "mimetype": "text/x-python",
   "name": "python",
   "nbconvert_exporter": "python",
   "pygments_lexer": "ipython3",
   "version": "3.7.3"
  }
 },
 "nbformat": 4,
 "nbformat_minor": 2
}
